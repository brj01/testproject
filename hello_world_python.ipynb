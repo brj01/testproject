{
 "cells": [
  {
   "cell_type": "code",
   "execution_count": 1,
   "id": "6a8bcd88-399b-4bef-8fe0-edb8a0295cd5",
   "metadata": {},
   "outputs": [
    {
     "data": {
      "text/plain": [
       "8"
      ]
     },
     "execution_count": 1,
     "metadata": {},
     "output_type": "execute_result"
    }
   ],
   "source": [
    "\n",
    "3+5"
   ]
  },
  {
   "cell_type": "code",
   "execution_count": 2,
   "id": "6114360e-d378-4ac6-a37c-b9f94c31dd75",
   "metadata": {},
   "outputs": [
    {
     "data": {
      "text/plain": [
       "6"
      ]
     },
     "execution_count": 2,
     "metadata": {},
     "output_type": "execute_result"
    }
   ],
   "source": [
    "10-4"
   ]
  },
  {
   "cell_type": "code",
   "execution_count": 3,
   "id": "6aee15c5-7168-4e48-aa87-d44998c07b98",
   "metadata": {},
   "outputs": [
    {
     "data": {
      "text/plain": [
       "42"
      ]
     },
     "execution_count": 3,
     "metadata": {},
     "output_type": "execute_result"
    }
   ],
   "source": [
    "7*6"
   ]
  },
  {
   "cell_type": "code",
   "execution_count": null,
   "id": "6e1afbc9-a427-4a44-a141-82a6541d15c5",
   "metadata": {},
   "outputs": [],
   "source": []
  },
  {
   "cell_type": "code",
   "execution_count": 5,
   "id": "f91f5a42-f864-4ee3-8ead-9de3791ea966",
   "metadata": {},
   "outputs": [
    {
     "data": {
      "text/plain": [
       "27"
      ]
     },
     "execution_count": 5,
     "metadata": {},
     "output_type": "execute_result"
    }
   ],
   "source": [
    "12+15"
   ]
  },
  {
   "cell_type": "code",
   "execution_count": 6,
   "id": "54442b11-f87e-45f5-b432-93d1d1a6df29",
   "metadata": {},
   "outputs": [
    {
     "data": {
      "text/plain": [
       "55"
      ]
     },
     "execution_count": 6,
     "metadata": {},
     "output_type": "execute_result"
    }
   ],
   "source": [
    "100-45"
   ]
  },
  {
   "cell_type": "code",
   "execution_count": 7,
   "id": "02a1ffd1-f1e9-4516-b51e-6c86b354bc47",
   "metadata": {},
   "outputs": [
    {
     "data": {
      "text/plain": [
       "72"
      ]
     },
     "execution_count": 7,
     "metadata": {},
     "output_type": "execute_result"
    }
   ],
   "source": [
    "9*8"
   ]
  },
  {
   "cell_type": "code",
   "execution_count": 8,
   "id": "4d6de0ff-43d2-4bf1-ad1a-f1adc8a0d3c7",
   "metadata": {},
   "outputs": [
    {
     "data": {
      "text/plain": [
       "12.0"
      ]
     },
     "execution_count": 8,
     "metadata": {},
     "output_type": "execute_result"
    }
   ],
   "source": [
    "144/12"
   ]
  },
  {
   "cell_type": "code",
   "execution_count": 12,
   "id": "ec90922a-8cef-47d7-8a02-1aba85dd6982",
   "metadata": {},
   "outputs": [
    {
     "data": {
      "text/plain": [
       "125"
      ]
     },
     "execution_count": 12,
     "metadata": {},
     "output_type": "execute_result"
    }
   ],
   "source": [
    "5**3"
   ]
  },
  {
   "cell_type": "code",
   "execution_count": 10,
   "id": "076b453f-0aff-4d4a-a4cb-a9da1ff5a008",
   "metadata": {},
   "outputs": [],
   "source": [
    "import math\n"
   ]
  },
  {
   "cell_type": "code",
   "execution_count": 11,
   "id": "3c9dfc55-e6af-49ab-9fc1-8908dcb33aaa",
   "metadata": {},
   "outputs": [
    {
     "data": {
      "text/plain": [
       "1.0"
      ]
     },
     "execution_count": 11,
     "metadata": {},
     "output_type": "execute_result"
    }
   ],
   "source": [
    "math.cos(2 * math.pi)"
   ]
  },
  {
   "cell_type": "code",
   "execution_count": 13,
   "id": "ebe38b20-1281-4cbf-85a7-b0fe230ded30",
   "metadata": {},
   "outputs": [
    {
     "name": "stdout",
     "output_type": "stream",
     "text": [
      "Alice\n",
      "<class 'str'>\n"
     ]
    }
   ],
   "source": [
    "name = \"Alice\"\n",
    "print(name)\n",
    "print(type(name))"
   ]
  },
  {
   "cell_type": "code",
   "execution_count": 14,
   "id": "ce7247ec-526a-4fff-9bd2-1279a0219537",
   "metadata": {},
   "outputs": [
    {
     "name": "stdout",
     "output_type": "stream",
     "text": [
      "25\n",
      "<class 'int'>\n"
     ]
    }
   ],
   "source": [
    "age = 25\n",
    "print(age)\n",
    "print(type(age))"
   ]
  },
  {
   "cell_type": "code",
   "execution_count": 15,
   "id": "5319ba9f-c5d3-4b31-8d2c-1273afcf8572",
   "metadata": {},
   "outputs": [
    {
     "name": "stdout",
     "output_type": "stream",
     "text": [
      "Bareaa\n",
      "19\n",
      "1.7\n",
      "<class 'str'>\n",
      "<class 'int'>\n",
      "<class 'float'>\n"
     ]
    }
   ],
   "source": [
    "name=\"Bareaa\"\n",
    "age=19\n",
    "height=1.70\n",
    "print(name)\n",
    "print(age)\n",
    "print(height)\n",
    "print(type(name))\n",
    "print(type(age))\n",
    "print(type(height))"
   ]
  },
  {
   "cell_type": "code",
   "execution_count": 17,
   "id": "cf189866-ac8e-4564-b297-5fd03ef77450",
   "metadata": {},
   "outputs": [
    {
     "data": {
      "text/plain": [
       "' i am trying to test \\nout the jupyter lab'"
      ]
     },
     "execution_count": 17,
     "metadata": {},
     "output_type": "execute_result"
    }
   ],
   "source": [
    "\"\"\" i am trying to test \n",
    "out the jupyter lab\"\"\"\n"
   ]
  },
  {
   "cell_type": "code",
   "execution_count": 21,
   "id": "b7d7f2e6-b7f9-4c3c-9ce8-a793114df7f7",
   "metadata": {},
   "outputs": [
    {
     "name": "stdout",
     "output_type": "stream",
     "text": [
      "pi is approximately equatl to 3.141592653589793\n"
     ]
    }
   ],
   "source": [
    "print(f\"pi is approximately equatl to {math.pi}\")"
   ]
  },
  {
   "cell_type": "code",
   "execution_count": 25,
   "id": "30a07c97-9f94-460e-9661-f53fa941c565",
   "metadata": {},
   "outputs": [
    {
     "name": "stdout",
     "output_type": "stream",
     "text": [
      "['pink', 'dark red', 'ivy green']\n",
      "['pink', 'dark red', 'ivy green', 'dark blue']\n",
      "['dark red', 'ivy green', 'dark blue']\n"
     ]
    }
   ],
   "source": [
    "favcolors=[\"pink\",\"dark red\",\"ivy green\"]\n",
    "print(favcolors)\n",
    "favcolors.append(\"dark blue\")\n",
    "print(favcolors)\n",
    "favcolors.remove(\"pink\")\n",
    "print(favcolors)"
   ]
  },
  {
   "cell_type": "code",
   "execution_count": 26,
   "id": "5f4dff9b-b369-4f6f-8683-4cfebacb8038",
   "metadata": {},
   "outputs": [
    {
     "name": "stdout",
     "output_type": "stream",
     "text": [
      "dark red\n",
      "dark blue\n",
      "baby blue\n",
      "['pink', 'dark red', 'baby pink', 'dark blue', 'baby blue']\n"
     ]
    }
   ],
   "source": [
    "favcolors=[\"pink\",\"dark red\",\"ivy green\",\"dark blue\", \"baby blue\"]\n",
    "print(favcolors[1])\n",
    "print(favcolors[3])\n",
    "print(favcolors[-1])\n",
    "favcolors[2]=\"baby pink\"\n",
    "print(favcolors)"
   ]
  },
  {
   "cell_type": "code",
   "execution_count": 31,
   "id": "4e25dab1-51ca-48dc-9037-fb040bf44e6a",
   "metadata": {},
   "outputs": [
    {
     "name": "stdout",
     "output_type": "stream",
     "text": [
      "[4, 5]\n",
      "6\n",
      "8\n"
     ]
    }
   ],
   "source": [
    "list_var = [\n",
    "    [1, 2, 3],\n",
    "    [4, 5, 6],\n",
    "    [7, 8, 9]]\n",
    "print(list_var[1][0:2])\n",
    "print(list_var[1][-1])\n",
    "print(list_var[2][1])"
   ]
  },
  {
   "cell_type": "code",
   "execution_count": 34,
   "id": "9eae47de-0119-43a4-ad5e-2fcb026c663e",
   "metadata": {},
   "outputs": [
    {
     "name": "stdout",
     "output_type": "stream",
     "text": [
      "the number is odd\n"
     ]
    }
   ],
   "source": [
    "number = 5\n",
    "\n",
    "if number%2== 0:\n",
    "    print(\"The number is even.\")\n",
    "else:\n",
    "    print(\"the number is odd\")\n",
    "    "
   ]
  },
  {
   "cell_type": "code",
   "execution_count": 35,
   "id": "af214820-92ff-4712-8446-aae5535ecbae",
   "metadata": {},
   "outputs": [
    {
     "name": "stdout",
     "output_type": "stream",
     "text": [
      "The number is even.\n"
     ]
    }
   ],
   "source": [
    "number = 0\n",
    "\n",
    "if number%2== 0:\n",
    "    print(\"The number is even.\")\n",
    "else:\n",
    "    print(\"the number is odd\")"
   ]
  },
  {
   "cell_type": "code",
   "execution_count": 36,
   "id": "ca6d0bd6-7ab7-4f25-8632-7e8e3fe13c66",
   "metadata": {},
   "outputs": [
    {
     "name": "stdout",
     "output_type": "stream",
     "text": [
      "The number is even.\n"
     ]
    }
   ],
   "source": [
    "number = 10\n",
    "\n",
    "if number%2== 0:\n",
    "    print(\"The number is even.\")\n",
    "else:\n",
    "    print(\"the number is odd\")"
   ]
  },
  {
   "cell_type": "code",
   "execution_count": 47,
   "id": "82874264-4b71-4c14-9683-ad2da7a315fe",
   "metadata": {},
   "outputs": [
    {
     "name": "stdout",
     "output_type": "stream",
     "text": [
      "item 0 is scientific\n",
      "item 1 is computing\n",
      "item 2 is with\n",
      "item 3 is python\n"
     ]
    }
   ],
   "source": [
    "i=0\n",
    "\n",
    "for idx, x in enumerate([\"scientific\", \"computing\", \"with\", \"python\"]):\n",
    "       print(f\"item {idx} is {x}\")\n",
    "  "
   ]
  },
  {
   "cell_type": "code",
   "execution_count": 49,
   "id": "8656dca3-88ed-41d8-a1c2-5f7323eaf17c",
   "metadata": {},
   "outputs": [
    {
     "name": "stdout",
     "output_type": "stream",
     "text": [
      "9 27 81\n"
     ]
    }
   ],
   "source": [
    "def power(s):\n",
    "    print(s**2,s**3,s**4)\n",
    "\n",
    "power(3)"
   ]
  },
  {
   "cell_type": "code",
   "execution_count": 50,
   "id": "c277dc44-daf3-45cb-9328-09759c6ea4a9",
   "metadata": {},
   "outputs": [],
   "source": [
    "\n",
    "import numpy as np\n"
   ]
  },
  {
   "cell_type": "code",
   "execution_count": 51,
   "id": "61d4606b-8373-4564-971f-280c7544009d",
   "metadata": {},
   "outputs": [
    {
     "name": "stdout",
     "output_type": "stream",
     "text": [
      "List: [1, 2, 3, 4]\n",
      "NumPy Array: [1 2 3 4]\n"
     ]
    }
   ],
   "source": [
    "my_list = [1, 2, 3, 4]\n",
    "my_array = np.array(my_list)\n",
    "\n",
    "print(\"List:\", my_list)\n",
    "print(\"NumPy Array:\", my_array)\n"
   ]
  },
  {
   "cell_type": "code",
   "execution_count": 55,
   "id": "f9f023e9-7d73-480d-87f5-b5dedef35070",
   "metadata": {},
   "outputs": [
    {
     "name": "stdout",
     "output_type": "stream",
     "text": [
      "List Addition (Concatenation): [1, 2, 3, 1, 2, 3]\n",
      "Array Addition: [2 4 6]\n",
      "Array Multiplication: [1 4 9]\n",
      "[2 4 6]\n"
     ]
    }
   ],
   "source": [
    "list1 = [1, 2, 3]\n",
    "list2 = [1, 2, 3]\n",
    "print(\"List Addition (Concatenation):\", list1 + list2)\n",
    "\n",
    "array1= np.array(list1)\n",
    "array2= np.array(list2)\n",
    "\n",
    "print(\"Array Addition:\", array1 + array2)  # Element-wise addition\n",
    "print(\"Array Multiplication:\", array1 * array2)  \n",
    "print(array1*2)\n"
   ]
  },
  {
   "cell_type": "markdown",
   "id": "399544a1-d7e2-4c27-a73f-569a9dbc24b2",
   "metadata": {},
   "source": [
    "# matrix = np.array([\n",
    "    [1, 2, 3],\n",
    "    [4, 5, 6]\n",
    "])\n",
    "print(\"Matrix:\")\n",
    "print(matrix)\n",
    "print(\"Shape:\", matrix.shape)\n",
    "\n",
    "matrix1 = np.array([\n",
    "    [1, 2, 3],\n",
    "    [4, 5, 6],\n",
    "    [1,2,3]\n",
    "])\n",
    "print(\"Matrix:\")\n",
    "print(matrix1)\n",
    "print(\"Shape:\", matrix1.shape)"
   ]
  },
  {
   "cell_type": "code",
   "execution_count": 56,
   "id": "7035bb69-d92a-4beb-b2cf-efd42fecf561",
   "metadata": {},
   "outputs": [
    {
     "name": "stdout",
     "output_type": "stream",
     "text": [
      "Matrix:\n",
      "[[1 2 3]\n",
      " [4 5 6]]\n",
      "Shape: (2, 3)\n",
      "Matrix:\n",
      "[[1 2 3]\n",
      " [4 5 6]\n",
      " [1 2 3]]\n",
      "Shape: (3, 3)\n"
     ]
    }
   ],
   "source": [
    "matrix = np.array([\n",
    "    [1, 2, 3],\n",
    "    [4, 5, 6]\n",
    "])\n",
    "\n",
    "print(\"Matrix:\")\n",
    "print(matrix)\n",
    "print(\"Shape:\", matrix.shape)\n",
    "\n",
    "matrix1 = np.array([\n",
    "    [1, 2, 3],\n",
    "    [4, 5, 6],\n",
    "    [1,2,3]\n",
    "])\n",
    "\n",
    "print(\"Matrix:\")\n",
    "print(matrix1)\n",
    "print(\"Shape:\", matrix1.shape)"
   ]
  },
  {
   "cell_type": "code",
   "execution_count": 57,
   "id": "45ee1f33-74ee-4cf1-8875-8f10aa9a8569",
   "metadata": {},
   "outputs": [
    {
     "name": "stdout",
     "output_type": "stream",
     "text": [
      "Python List: [1, 2.5, 'hello']\n",
      "NumPy Array: ['1' '2.5' '3' 'hello']\n",
      "Array Data Type: <U32\n"
     ]
    }
   ],
   "source": [
    "mixed_list = [1, 2.5, \"hello\"]\n",
    "print(\"Python List:\", mixed_list)\n",
    "\n",
    "array = np.array([1, 2.5, 3,\"hello\"])\n",
    "print(\"NumPy Array:\", array)\n",
    "print(\"Array Data Type:\", array.dtype)"
   ]
  },
  {
   "cell_type": "code",
   "execution_count": 58,
   "id": "0b2f2f12-109a-4c67-9626-2fbf983cb71c",
   "metadata": {},
   "outputs": [
    {
     "name": "stdout",
     "output_type": "stream",
     "text": [
      "6\n",
      "8\n",
      "[[5 6]\n",
      " [8 9]]\n"
     ]
    }
   ],
   "source": [
    "matrix = np.array([\n",
    "    [1, 2, 3],\n",
    "    [4, 5, 6],\n",
    "    [7, 8, 9]\n",
    "])\n",
    "\n",
    "print(matrix[1][2])\n",
    "print(matrix[-1][1])\n",
    "print(matrix[1:,1:])"
   ]
  },
  {
   "cell_type": "code",
   "execution_count": 60,
   "id": "0af96caf-e4b9-4254-8baf-a2cbc3ca80e0",
   "metadata": {},
   "outputs": [
    {
     "name": "stdout",
     "output_type": "stream",
     "text": [
      "Point at [0.250000, 1.500000]\n",
      "Point at [1.000000, 1.000000]\n"
     ]
    }
   ],
   "source": [
    "class Point:\n",
    "    \"\"\"\n",
    "    Simple class for representing a point in a Cartesian coordinate system.\n",
    "    \"\"\"\n",
    "\n",
    "    def __init__(self, x, y):\n",
    "        \"\"\"\n",
    "        Create a new Point at x, y.\n",
    "        \"\"\"\n",
    "        self.x = x\n",
    "        self.y = y\n",
    "\n",
    "    def translate(self, dx, dy):\n",
    "        \"\"\"\n",
    "        Translate the point by dx and dy in the x and y direction.\n",
    "        \"\"\"\n",
    "        self.x += dx\n",
    "        self.y += dy\n",
    "\n",
    "    def __str__(self):\n",
    "        return(\"Point at [%f, %f]\" % (self.x, self.y))\n",
    "        \n",
    "p1 = Point(0, 0) # this will invoke the __init__ method in the Point class\n",
    "\n",
    "p2 = Point(1, 1)\n",
    "\n",
    "p1.translate(0.25, 1.5)\n",
    "\n",
    "print(p1)\n",
    "print(p2)"
   ]
  },
  {
   "cell_type": "code",
   "execution_count": 61,
   "id": "18f8f4a9-925b-47fc-a276-2700f655b0d0",
   "metadata": {},
   "outputs": [
    {
     "name": "stdout",
     "output_type": "stream",
     "text": [
      "cant divide by 0\n"
     ]
    }
   ],
   "source": [
    "try:\n",
    "    print(2/0)\n",
    "\n",
    "except:\n",
    "    print(\"cant divide by 0\")"
   ]
  },
  {
   "cell_type": "code",
   "execution_count": null,
   "id": "c90f581f-06f7-42c9-9652-82891456878b",
   "metadata": {},
   "outputs": [],
   "source": []
  }
 ],
 "metadata": {
  "kernelspec": {
   "display_name": "Python 3 (ipykernel)",
   "language": "python",
   "name": "python3"
  },
  "language_info": {
   "codemirror_mode": {
    "name": "ipython",
    "version": 3
   },
   "file_extension": ".py",
   "mimetype": "text/x-python",
   "name": "python",
   "nbconvert_exporter": "python",
   "pygments_lexer": "ipython3",
   "version": "3.13.1"
  }
 },
 "nbformat": 4,
 "nbformat_minor": 5
}
